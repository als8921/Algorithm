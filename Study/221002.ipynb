{
 "cells": [
  {
   "cell_type": "markdown",
   "metadata": {},
   "source": [
    "# 에라토스테네스의 체"
   ]
  },
  {
   "cell_type": "code",
   "execution_count": 20,
   "metadata": {},
   "outputs": [
    {
     "name": "stdout",
     "output_type": "stream",
     "text": [
      "4919 5081\n"
     ]
    }
   ],
   "source": [
    "# 2부터 n까지의 수 중에서 소수 찾기\n",
    "n = int(input())\n",
    "cmd = []\n",
    "\n",
    "for i in range(n):\n",
    "    cmd.append(int(input()))\n",
    "\n",
    "\n",
    "def setTable(n):\n",
    "    global table\n",
    "    table = [False, False] + [True]*(n-1)\n",
    "    idx = 2\n",
    "    while(idx < n):\n",
    "        for i in range(2 * idx, n+1, idx):\n",
    "            table[i] = False\n",
    "        idx+=1\n",
    "\n",
    "table = []   \n",
    "setTable(max(cmd))\n",
    "\n",
    "\n",
    "# for idx, isPrime in enumerate(table):\n",
    "#     if(isPrime):\n",
    "#         print(idx, end=\" \")\n",
    "\n",
    "\n",
    "# print(table)\n",
    "# print()\n",
    "\n",
    "for num in cmd:\n",
    "    for i in range(num//2, 1, -1):\n",
    "        if(table[i] and table[num-i]):\n",
    "            print(i, num-i)\n",
    "            break"
   ]
  }
 ],
 "metadata": {
  "kernelspec": {
   "display_name": "Python 3.10.5 64-bit",
   "language": "python",
   "name": "python3"
  },
  "language_info": {
   "codemirror_mode": {
    "name": "ipython",
    "version": 3
   },
   "file_extension": ".py",
   "mimetype": "text/x-python",
   "name": "python",
   "nbconvert_exporter": "python",
   "pygments_lexer": "ipython3",
   "version": "3.10.5"
  },
  "orig_nbformat": 4,
  "vscode": {
   "interpreter": {
    "hash": "aee8b7b246df8f9039afb4144a1f6fd8d2ca17a180786b69acc140d282b71a49"
   }
  }
 },
 "nbformat": 4,
 "nbformat_minor": 2
}
